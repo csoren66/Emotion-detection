{
 "cells": [
  {
   "cell_type": "markdown",
   "id": "16c81464",
   "metadata": {},
   "source": [
    "# Emotion Reccognition"
   ]
  },
  {
   "cell_type": "code",
   "execution_count": 1,
   "id": "a5befa42",
   "metadata": {},
   "outputs": [],
   "source": [
    "import pandas as pd\n",
    "from PIL import Image\n",
    "import numpy as np\n",
    "import matplotlib.pyplot as plt\n",
    "import tensorflow as tf\n",
    "from sklearn.model_selection import train_test_split\n",
    "from tensorflow.keras.layers import Conv2D, MaxPool2D, AveragePooling2D, Input, BatchNormalization, MaxPooling2D, Activation, Flatten, Dense, Dropout\n",
    "from tensorflow.keras.models import Model\n",
    "from tensorflow.keras.utils import to_categorical\n",
    "from sklearn.metrics import classification_report\n",
    "from imblearn.over_sampling import RandomOverSampler\n",
    "from tensorflow.keras.preprocessing import image\n",
    "import scipy\n",
    "import os\n",
    "import cv2"
   ]
  },
  {
   "cell_type": "markdown",
   "id": "b018e6b0",
   "metadata": {},
   "source": [
    " ### Dataset"
   ]
  },
  {
   "cell_type": "code",
   "execution_count": 2,
   "id": "52f8bf7a",
   "metadata": {},
   "outputs": [
    {
     "data": {
      "text/html": [
       "<div>\n",
       "<style scoped>\n",
       "    .dataframe tbody tr th:only-of-type {\n",
       "        vertical-align: middle;\n",
       "    }\n",
       "\n",
       "    .dataframe tbody tr th {\n",
       "        vertical-align: top;\n",
       "    }\n",
       "\n",
       "    .dataframe thead th {\n",
       "        text-align: right;\n",
       "    }\n",
       "</style>\n",
       "<table border=\"1\" class=\"dataframe\">\n",
       "  <thead>\n",
       "    <tr style=\"text-align: right;\">\n",
       "      <th></th>\n",
       "      <th>emotion</th>\n",
       "      <th>Usage</th>\n",
       "      <th>pixels</th>\n",
       "    </tr>\n",
       "  </thead>\n",
       "  <tbody>\n",
       "    <tr>\n",
       "      <th>0</th>\n",
       "      <td>0</td>\n",
       "      <td>Training</td>\n",
       "      <td>70 80 82 72 58 58 60 63 54 58 60 48 89 115 121...</td>\n",
       "    </tr>\n",
       "    <tr>\n",
       "      <th>1</th>\n",
       "      <td>0</td>\n",
       "      <td>Training</td>\n",
       "      <td>151 150 147 155 148 133 111 140 170 174 182 15...</td>\n",
       "    </tr>\n",
       "    <tr>\n",
       "      <th>2</th>\n",
       "      <td>2</td>\n",
       "      <td>Training</td>\n",
       "      <td>231 212 156 164 174 138 161 173 182 200 106 38...</td>\n",
       "    </tr>\n",
       "    <tr>\n",
       "      <th>3</th>\n",
       "      <td>4</td>\n",
       "      <td>Training</td>\n",
       "      <td>24 32 36 30 32 23 19 20 30 41 21 22 32 34 21 1...</td>\n",
       "    </tr>\n",
       "    <tr>\n",
       "      <th>4</th>\n",
       "      <td>6</td>\n",
       "      <td>Training</td>\n",
       "      <td>4 0 0 0 0 0 0 0 0 0 0 0 3 15 23 28 48 50 58 84...</td>\n",
       "    </tr>\n",
       "  </tbody>\n",
       "</table>\n",
       "</div>"
      ],
      "text/plain": [
       "   emotion     Usage                                             pixels\n",
       "0        0  Training  70 80 82 72 58 58 60 63 54 58 60 48 89 115 121...\n",
       "1        0  Training  151 150 147 155 148 133 111 140 170 174 182 15...\n",
       "2        2  Training  231 212 156 164 174 138 161 173 182 200 106 38...\n",
       "3        4  Training  24 32 36 30 32 23 19 20 30 41 21 22 32 34 21 1...\n",
       "4        6  Training  4 0 0 0 0 0 0 0 0 0 0 0 3 15 23 28 48 50 58 84..."
      ]
     },
     "execution_count": 2,
     "metadata": {},
     "output_type": "execute_result"
    }
   ],
   "source": [
    "data = pd.read_csv('./icml_face_data.csv')\n",
    "data.head()"
   ]
  },
  {
   "cell_type": "code",
   "execution_count": 3,
   "id": "ae1bf30b",
   "metadata": {},
   "outputs": [],
   "source": [
    "pixel_data = data[' pixels']\n",
    "label_data = data['emotion']"
   ]
  },
  {
   "cell_type": "markdown",
   "id": "876f643b",
   "metadata": {},
   "source": [
    "### Preprocessing the pixel values"
   ]
  },
  {
   "cell_type": "code",
   "execution_count": 4,
   "id": "521c3b2d",
   "metadata": {},
   "outputs": [],
   "source": [
    "def preprocess_pixels(pixel_data):\n",
    "    images = []\n",
    "    for i in range(len(pixel_data)):\n",
    "        img = np.fromstring(pixel_data[i], dtype='int', sep=' ')\n",
    "        img = img.reshape(48,48,1)\n",
    "        images.append(img)\n",
    "        \n",
    "    X = np.array(images)\n",
    "    \n",
    "    return X"
   ]
  },
  {
   "cell_type": "code",
   "execution_count": 5,
   "id": "b5ae5677",
   "metadata": {},
   "outputs": [],
   "source": [
    "oversampler = RandomOverSampler(sampling_strategy='auto')\n",
    "\n",
    "X_over, Y_over = oversampler.fit_resample(pixel_data.values.reshape(-1,1), label_data)\n",
    "\n",
    "X_over_series = pd.Series(X_over.flatten())"
   ]
  },
  {
   "cell_type": "code",
   "execution_count": 6,
   "id": "0332bb7a",
   "metadata": {},
   "outputs": [],
   "source": [
    "X = preprocess_pixels(X_over_series)\n",
    "Y = Y_over\n",
    "\n",
    "X_train, X_test, Y_train, Y_test = train_test_split(X, Y, test_size = 0.1, random_state = 45)"
   ]
  },
  {
   "cell_type": "code",
   "execution_count": 7,
   "id": "e67d6c08",
   "metadata": {},
   "outputs": [
    {
     "data": {
      "text/plain": [
       "<matplotlib.image.AxesImage at 0x17052459b80>"
      ]
     },
     "execution_count": 7,
     "metadata": {},
     "output_type": "execute_result"
    },
    {
     "data": {
      "image/png": "[encoded data removed]",
      "text/plain": [
       "<Figure size 640x480 with 1 Axes>"
      ]
     },
     "metadata": {},
     "output_type": "display_data"
    }
   ],
   "source": [
    "plt.imshow(X[0, :, :,0])"
   ]
  },
  {
   "cell_type": "markdown",
   "id": "5f0e1a5e",
   "metadata": {},
   "source": [
    "### Defining the Model"
   ]
  },
  {
   "cell_type": "code",
   "execution_count": 8,
   "id": "9af2d206",
   "metadata": {},
   "outputs": [],
   "source": [
    "def emotion_recognition(input_shape):\n",
    "    X_input = Input(input_shape)\n",
    "\n",
    "    X = Conv2D(32, kernel_size=(3,3), strides=(1,1), padding='valid')(X_input)\n",
    "    X = BatchNormalization(axis=3)(X)\n",
    "    X = Activation('relu')(X)\n",
    "\n",
    "\n",
    "    X = Conv2D(64, (3,3), strides=(1,1), padding = 'same')(X)\n",
    "    X = BatchNormalization(axis=3)(X)\n",
    "    X = Activation('relu')(X)\n",
    "\n",
    "    X = MaxPooling2D((2,2))(X)\n",
    "\n",
    "    X = Conv2D(64, (3,3), strides=(1,1), padding = 'valid')(X)\n",
    "    X = BatchNormalization(axis=3)(X)\n",
    "    X = Activation('relu')(X)\n",
    "\n",
    "    X = Conv2D(128, (3,3), strides=(1,1), padding = 'same')(X)\n",
    "    X = BatchNormalization(axis=3)(X)\n",
    "    X = Activation('relu')(X)\n",
    "\n",
    "\n",
    "    X = MaxPooling2D((2,2))(X)\n",
    "\n",
    "    X = Conv2D(128, (3,3), strides=(1,1), padding = 'valid')(X)\n",
    "    X = BatchNormalization(axis=3)(X)\n",
    "    X = Activation('relu')(X)\n",
    "\n",
    " \n",
    "\n",
    "    X = MaxPooling2D((2,2))(X)\n",
    "    X = Flatten()(X)\n",
    "    X = Dense(200, activation='relu')(X)\n",
    "    X = Dropout(0.6)(X)\n",
    "    X = Dense(7, activation = 'softmax')(X)\n",
    "\n",
    "    model = Model(inputs=X_input, outputs=X)\n",
    "    \n",
    "    return model"
   ]
  },
  {
   "cell_type": "code",
   "execution_count": 9,
   "id": "cfaa5743",
   "metadata": {},
   "outputs": [],
   "source": [
    "model = emotion_recognition((48,48,1))\n",
    "adam = tf.keras.optimizers.Adam(learning_rate=0.0001)\n",
    "model.compile(optimizer=adam, loss='categorical_crossentropy', metrics=['accuracy'])"
   ]
  },
  {
   "cell_type": "markdown",
   "id": "cf1f0955",
   "metadata": {},
   "source": [
    "### Training the model"
   ]
  },
  {
   "cell_type": "code",
   "execution_count": 10,
   "id": "00bdee0e",
   "metadata": {},
   "outputs": [],
   "source": [
    "\n",
    "y_train = to_categorical(Y_train, num_classes=7)\n",
    "\n",
    "y_test = to_categorical(Y_test, num_classes=7)"
   ]
  },
  {
   "cell_type": "code",
   "execution_count": 11,
   "id": "b0caa508",
   "metadata": {},
   "outputs": [
    {
     "name": "stdout",
     "output_type": "stream",
     "text": [
      "Epoch 1/10\n",
      "1770/1770 [==============================] - 621s 350ms/step - loss: 1.7273 - accuracy: 0.3233 - val_loss: 1.4521 - val_accuracy: 0.4491\n",
      "Epoch 2/10\n",
      "1770/1770 [==============================] - 614s 347ms/step - loss: 1.3976 - accuracy: 0.4646 - val_loss: 1.2018 - val_accuracy: 0.5517\n",
      "Epoch 3/10\n",
      "1770/1770 [==============================] - 631s 356ms/step - loss: 1.2165 - accuracy: 0.5304 - val_loss: 1.0892 - val_accuracy: 0.5853\n",
      "Epoch 4/10\n",
      "1770/1770 [==============================] - 568s 321ms/step - loss: 1.1046 - accuracy: 0.5742 - val_loss: 1.0294 - val_accuracy: 0.6061\n",
      "Epoch 5/10\n",
      "1770/1770 [==============================] - 565s 319ms/step - loss: 1.0170 - accuracy: 0.6110 - val_loss: 1.0134 - val_accuracy: 0.6135\n",
      "Epoch 6/10\n",
      "1770/1770 [==============================] - 565s 319ms/step - loss: 0.9406 - accuracy: 0.6415 - val_loss: 0.9114 - val_accuracy: 0.6493\n",
      "Epoch 7/10\n",
      "1770/1770 [==============================] - 565s 319ms/step - loss: 0.8708 - accuracy: 0.6702 - val_loss: 0.8412 - val_accuracy: 0.6822\n",
      "Epoch 8/10\n",
      "1770/1770 [==============================] - 605s 342ms/step - loss: 0.7978 - accuracy: 0.7004 - val_loss: 0.8584 - val_accuracy: 0.6801\n",
      "Epoch 9/10\n",
      "1770/1770 [==============================] - 568s 321ms/step - loss: 0.7365 - accuracy: 0.7245 - val_loss: 0.7831 - val_accuracy: 0.7098\n",
      "Epoch 10/10\n",
      "1770/1770 [==============================] - 662s 374ms/step - loss: 0.6711 - accuracy: 0.7510 - val_loss: 0.7435 - val_accuracy: 0.7310\n"
     ]
    },
    {
     "data": {
      "text/plain": [
       "<keras.callbacks.History at 0x17052239e80>"
      ]
     },
     "execution_count": 11,
     "metadata": {},
     "output_type": "execute_result"
    }
   ],
   "source": [
    "model.fit(X_train, y_train, epochs = 10, validation_data=(X_test, y_test))"
   ]
  },
  {
   "cell_type": "markdown",
   "id": "9d7cb31c",
   "metadata": {},
   "source": [
    "### Validating the Model"
   ]
  },
  {
   "cell_type": "code",
   "execution_count": null,
   "id": "fdb6b227",
   "metadata": {},
   "outputs": [],
   "source": [
    "preds = model.predict(X_train)\n",
    "def get_class(preds):\n",
    "    pred_class = np.zeros((preds.shape[0], 1))\n",
    "    \n",
    "    for i in range(len(preds)):\n",
    "        pred_class[i] = np.argmax(preds[i])\n",
    "        \n",
    "    return pred_class\n",
    "\n",
    "pred_class_train = get_class(preds)"
   ]
  },
  {
   "cell_type": "code",
   "execution_count": null,
   "id": "c9dc6a57",
   "metadata": {},
   "outputs": [],
   "source": [
    "label_dict = {0 : 'Angry', 1 : 'Disgust', 2 : 'Fear', 3 : 'Happiness', 4 : 'Sad', 5 : 'Surprise', 6 : 'Neutral'}"
   ]
  },
  {
   "cell_type": "code",
   "execution_count": null,
   "id": "08466bf2",
   "metadata": {},
   "outputs": [],
   "source": [
    "img_path = 'test1_happiness.jpeg'\n",
    "img = image.load_img(img_path, grayscale=True, target_size=(48,48))\n",
    "\n",
    "x = image.img_to_array(img)\n",
    "x = np.expand_dims(x, axis=0)\n",
    "\n",
    "prediction = np.argmax(model.predict(x))\n",
    "print('The predicted emotion is : ' + label_dict[prediction])\n",
    "my_image = image.load_img(img_path)\n",
    "plt.imshow(my_image)"
   ]
  },
  {
   "cell_type": "markdown",
   "id": "1a04236e",
   "metadata": {},
   "source": [
    "### Implementing the model in Real-Time"
   ]
  },
  {
   "cell_type": "code",
   "execution_count": null,
   "id": "c5c640ba",
   "metadata": {},
   "outputs": [],
   "source": [
    "face_haar_cascade = cv2.CascadeClassifier('haarcascade_frontalface_default.xml')"
   ]
  },
  {
   "cell_type": "code",
   "execution_count": null,
   "id": "075dab28",
   "metadata": {},
   "outputs": [],
   "source": [
    "\n",
    "cap = cv2.VideoCapture(0)\n",
    "\n",
    "while True:\n",
    "    \n",
    "    _,cap_image = cap.read()\n",
    "\n",
    "\n",
    "    cap_img_gray = cv2.cvtColor(cap_image, cv2.COLOR_BGR2GRAY)\n",
    "\n",
    "    faces = face_haar_cascade.detectMultiScale(cap_img_gray, 1.3, 5)\n",
    "\n",
    "    for (x,y,w,h) in faces:\n",
    "        cv2.rectangle(cap_image, (x,y), (x+w,y+h),(255,0,0),2)\n",
    "        roi_gray = cap_img_gray[y:y+h, x:x+w]\n",
    "        roi_gray = cv2.resize(roi_gray, (48,48))\n",
    "        img_pixels = image.img_to_array(roi_gray)\n",
    "        img_pixels = np.expand_dims(img_pixels, axis=0)\n",
    "\n",
    "        predictions = model.predict(img_pixels)\n",
    "        emotion_label = np.argmax(predictions)\n",
    "\n",
    "        emotion_prediction = label_dict[emotion_label]\n",
    "\n",
    "        cv2.putText(cap_image, emotion_prediction, (int(x), int(y)), cv2.FONT_HERSHEY_SIMPLEX, 0.75, (0,0,0), 1 )\n",
    "\n",
    "        resize_image = cv2.resize(cap_image, (1000,700))\n",
    "        cv2.imshow('Emotion',resize_image)\n",
    "\n",
    "        if cv2.waitKey(10) == ord('b'):\n",
    "            break\n",
    "    \n",
    "  \n",
    "    cap.release()\n",
    "    cv2.destroyAllWindows"
   ]
  },
  {
   "cell_type": "code",
   "execution_count": null,
   "id": "9135a439",
   "metadata": {},
   "outputs": [],
   "source": []
  }
 ],
 "metadata": {
  "kernelspec": {
   "display_name": "Python 3 (ipykernel)",
   "language": "python",
   "name": "python3"
  },
  "language_info": {
   "codemirror_mode": {
    "name": "ipython",
    "version": 3
   },
   "file_extension": ".py",
   "mimetype": "text/x-python",
   "name": "python",
   "nbconvert_exporter": "python",
   "pygments_lexer": "ipython3",
   "version": "3.9.13"
  }
 },
 "nbformat": 4,
 "nbformat_minor": 5
}
