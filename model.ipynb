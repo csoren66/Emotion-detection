{
  "nbformat": 4,
  "nbformat_minor": 0,
  "metadata": {
    "colab": {
      "provenance": []
    },
    "kernelspec": {
      "name": "python3",
      "display_name": "Python 3"
    },
    "language_info": {
      "name": "python"
    },
    "accelerator": "GPU",
    "gpuClass": "standard"
  },
  "cells": [
    {
      "cell_type": "markdown",
      "source": [
        "<h1><center>ZAF004_CV_EmotionDetection</center></h1>\n"
      ],
      "metadata": {
        "id": "rS83Yqz62dGN"
      }
    },
    {
      "cell_type": "markdown",
      "source": [
        "## Import the dependencies"
      ],
      "metadata": {
        "id": "l16ew_qsJRxI"
      }
    },
    {
      "cell_type": "code",
      "source": [
        "from google.colab import drive\n",
        "drive.mount('/content/drive')"
      ],
      "metadata": {
        "colab": {
          "base_uri": "https://localhost:8080/"
        },
        "id": "TzvuEB8s1GT5",
        "outputId": "bcea87cb-b5c3-4c8a-d9f9-b39c7419deaa"
      },
      "execution_count": 7,
      "outputs": [
        {
          "output_type": "stream",
          "name": "stdout",
          "text": [
            "Mounted at /content/drive\n"
          ]
        }
      ]
    },
    {
      "cell_type": "code",
      "execution_count": 1,
      "metadata": {
        "id": "B6Nt0sqsfriT"
      },
      "outputs": [],
      "source": [
        "import sys, os\n",
        "import pandas as pd\n",
        "import numpy as np\n",
        "import matplotlib.pyplot as plt\n",
        "\n",
        "\n",
        "from keras.models import Sequential\n",
        "from keras.layers import Dense, Dropout, Activation, Flatten\n",
        "from keras.layers import Conv2D, MaxPooling2D, BatchNormalization,AveragePooling2D\n",
        "from keras.losses import categorical_crossentropy\n",
        "from keras.optimizers import Adam\n",
        "from keras.regularizers import l2\n",
        "from keras.utils import np_utils"
      ]
    },
    {
      "cell_type": "markdown",
      "source": [
        "## Data Loading"
      ],
      "metadata": {
        "id": "bnM_5JbmKqGN"
      }
    },
    {
      "cell_type": "code",
      "source": [
        "df = pd.read_csv('/content/drive/MyDrive/fer2013/icml_face_data.csv')\n",
        "df.head()"
      ],
      "metadata": {
        "colab": {
          "base_uri": "https://localhost:8080/",
          "height": 206
        },
        "id": "FD1xN1ePg3GB",
        "outputId": "aeef14dd-a784-4f12-ae24-3dde3213c143"
      },
      "execution_count": 8,
      "outputs": [
        {
          "output_type": "execute_result",
          "data": {
            "text/plain": [
              "   emotion     Usage                                             pixels\n",
              "0        0  Training  70 80 82 72 58 58 60 63 54 58 60 48 89 115 121...\n",
              "1        0  Training  151 150 147 155 148 133 111 140 170 174 182 15...\n",
              "2        2  Training  231 212 156 164 174 138 161 173 182 200 106 38...\n",
              "3        4  Training  24 32 36 30 32 23 19 20 30 41 21 22 32 34 21 1...\n",
              "4        6  Training  4 0 0 0 0 0 0 0 0 0 0 0 3 15 23 28 48 50 58 84..."
            ],
            "text/html": [
              "\n",
              "  <div id=\"df-aecb8b4a-255f-40d7-97f2-07cfd82bf2c5\">\n",
              "    <div class=\"colab-df-container\">\n",
              "      <div>\n",
              "<style scoped>\n",
              "    .dataframe tbody tr th:only-of-type {\n",
              "        vertical-align: middle;\n",
              "    }\n",
              "\n",
              "    .dataframe tbody tr th {\n",
              "        vertical-align: top;\n",
              "    }\n",
              "\n",
              "    .dataframe thead th {\n",
              "        text-align: right;\n",
              "    }\n",
              "</style>\n",
              "<table border=\"1\" class=\"dataframe\">\n",
              "  <thead>\n",
              "    <tr style=\"text-align: right;\">\n",
              "      <th></th>\n",
              "      <th>emotion</th>\n",
              "      <th>Usage</th>\n",
              "      <th>pixels</th>\n",
              "    </tr>\n",
              "  </thead>\n",
              "  <tbody>\n",
              "    <tr>\n",
              "      <th>0</th>\n",
              "      <td>0</td>\n",
              "      <td>Training</td>\n",
              "      <td>70 80 82 72 58 58 60 63 54 58 60 48 89 115 121...</td>\n",
              "    </tr>\n",
              "    <tr>\n",
              "      <th>1</th>\n",
              "      <td>0</td>\n",
              "      <td>Training</td>\n",
              "      <td>151 150 147 155 148 133 111 140 170 174 182 15...</td>\n",
              "    </tr>\n",
              "    <tr>\n",
              "      <th>2</th>\n",
              "      <td>2</td>\n",
              "      <td>Training</td>\n",
              "      <td>231 212 156 164 174 138 161 173 182 200 106 38...</td>\n",
              "    </tr>\n",
              "    <tr>\n",
              "      <th>3</th>\n",
              "      <td>4</td>\n",
              "      <td>Training</td>\n",
              "      <td>24 32 36 30 32 23 19 20 30 41 21 22 32 34 21 1...</td>\n",
              "    </tr>\n",
              "    <tr>\n",
              "      <th>4</th>\n",
              "      <td>6</td>\n",
              "      <td>Training</td>\n",
              "      <td>4 0 0 0 0 0 0 0 0 0 0 0 3 15 23 28 48 50 58 84...</td>\n",
              "    </tr>\n",
              "  </tbody>\n",
              "</table>\n",
              "</div>\n",
              "      <button class=\"colab-df-convert\" onclick=\"convertToInteractive('df-aecb8b4a-255f-40d7-97f2-07cfd82bf2c5')\"\n",
              "              title=\"Convert this dataframe to an interactive table.\"\n",
              "              style=\"display:none;\">\n",
              "        \n",
              "  <svg xmlns=\"http://www.w3.org/2000/svg\" height=\"24px\"viewBox=\"0 0 24 24\"\n",
              "       width=\"24px\">\n",
              "    <path d=\"M0 0h24v24H0V0z\" fill=\"none\"/>\n",
              "    <path d=\"M18.56 5.44l.94 2.06.94-2.06 2.06-.94-2.06-.94-.94-2.06-.94 2.06-2.06.94zm-11 1L8.5 8.5l.94-2.06 2.06-.94-2.06-.94L8.5 2.5l-.94 2.06-2.06.94zm10 10l.94 2.06.94-2.06 2.06-.94-2.06-.94-.94-2.06-.94 2.06-2.06.94z\"/><path d=\"M17.41 7.96l-1.37-1.37c-.4-.4-.92-.59-1.43-.59-.52 0-1.04.2-1.43.59L10.3 9.45l-7.72 7.72c-.78.78-.78 2.05 0 2.83L4 21.41c.39.39.9.59 1.41.59.51 0 1.02-.2 1.41-.59l7.78-7.78 2.81-2.81c.8-.78.8-2.07 0-2.86zM5.41 20L4 18.59l7.72-7.72 1.47 1.35L5.41 20z\"/>\n",
              "  </svg>\n",
              "      </button>\n",
              "      \n",
              "  <style>\n",
              "    .colab-df-container {\n",
              "      display:flex;\n",
              "      flex-wrap:wrap;\n",
              "      gap: 12px;\n",
              "    }\n",
              "\n",
              "    .colab-df-convert {\n",
              "      background-color: #E8F0FE;\n",
              "      border: none;\n",
              "      border-radius: 50%;\n",
              "      cursor: pointer;\n",
              "      display: none;\n",
              "      fill: #1967D2;\n",
              "      height: 32px;\n",
              "      padding: 0 0 0 0;\n",
              "      width: 32px;\n",
              "    }\n",
              "\n",
              "    .colab-df-convert:hover {\n",
              "      background-color: #E2EBFA;\n",
              "      box-shadow: 0px 1px 2px rgba(60, 64, 67, 0.3), 0px 1px 3px 1px rgba(60, 64, 67, 0.15);\n",
              "      fill: #174EA6;\n",
              "    }\n",
              "\n",
              "    [theme=dark] .colab-df-convert {\n",
              "      background-color: #3B4455;\n",
              "      fill: #D2E3FC;\n",
              "    }\n",
              "\n",
              "    [theme=dark] .colab-df-convert:hover {\n",
              "      background-color: #434B5C;\n",
              "      box-shadow: 0px 1px 3px 1px rgba(0, 0, 0, 0.15);\n",
              "      filter: drop-shadow(0px 1px 2px rgba(0, 0, 0, 0.3));\n",
              "      fill: #FFFFFF;\n",
              "    }\n",
              "  </style>\n",
              "\n",
              "      <script>\n",
              "        const buttonEl =\n",
              "          document.querySelector('#df-aecb8b4a-255f-40d7-97f2-07cfd82bf2c5 button.colab-df-convert');\n",
              "        buttonEl.style.display =\n",
              "          google.colab.kernel.accessAllowed ? 'block' : 'none';\n",
              "\n",
              "        async function convertToInteractive(key) {\n",
              "          const element = document.querySelector('#df-aecb8b4a-255f-40d7-97f2-07cfd82bf2c5');\n",
              "          const dataTable =\n",
              "            await google.colab.kernel.invokeFunction('convertToInteractive',\n",
              "                                                     [key], {});\n",
              "          if (!dataTable) return;\n",
              "\n",
              "          const docLinkHtml = 'Like what you see? Visit the ' +\n",
              "            '<a target=\"_blank\" href=https://colab.research.google.com/notebooks/data_table.ipynb>data table notebook</a>'\n",
              "            + ' to learn more about interactive tables.';\n",
              "          element.innerHTML = '';\n",
              "          dataTable['output_type'] = 'display_data';\n",
              "          await google.colab.output.renderOutput(dataTable, element);\n",
              "          const docLink = document.createElement('div');\n",
              "          docLink.innerHTML = docLinkHtml;\n",
              "          element.appendChild(docLink);\n",
              "        }\n",
              "      </script>\n",
              "    </div>\n",
              "  </div>\n",
              "  "
            ]
          },
          "metadata": {},
          "execution_count": 8
        }
      ]
    },
    {
      "cell_type": "markdown",
      "source": [
        "## Exploratory Data Analysis (EDA)"
      ],
      "metadata": {
        "id": "pdclGwbu1fMe"
      }
    },
    {
      "cell_type": "code",
      "source": [
        "# Print the class distribution\n",
        "print(df['emotion'].value_counts())"
      ],
      "metadata": {
        "colab": {
          "base_uri": "https://localhost:8080/"
        },
        "id": "9D9biQXJ0OIc",
        "outputId": "502cddd3-35d8-4922-ff77-dcded4777dfa"
      },
      "execution_count": 9,
      "outputs": [
        {
          "output_type": "stream",
          "name": "stdout",
          "text": [
            "3    8989\n",
            "6    6198\n",
            "4    6077\n",
            "2    5121\n",
            "0    4953\n",
            "5    4002\n",
            "1     547\n",
            "Name: emotion, dtype: int64\n"
          ]
        }
      ]
    },
    {
      "cell_type": "code",
      "source": [
        "# Plot the class distribution\n",
        "plt.figure(figsize=(8, 6))\n",
        "plt.bar(df['emotion'].value_counts().index, df['emotion'].value_counts().values)\n",
        "plt.xlabel('Emotion')\n",
        "plt.ylabel('Count')\n",
        "plt.title('Class Distribution')\n",
        "plt.show()"
      ],
      "metadata": {
        "colab": {
          "base_uri": "https://localhost:8080/",
          "height": 404
        },
        "id": "H04zWeCv0QJ3",
        "outputId": "8ce52f90-9447-491f-9b25-4fa3a238adb3"
      },
      "execution_count": 11,
      "outputs": [
        {
          "output_type": "display_data",
          "data": {
            "text/plain": [
              "<Figure size 576x432 with 1 Axes>"
            ],
            "image/png": "[encoded data removed]"
          },
          "metadata": {
            "needs_background": "light"
          }
        }
      ]
    },
    {
      "cell_type": "markdown",
      "source": [
        "**(0=Angry, 1=Disgust, 2=Fear, 3=Happy, 4=Sad, 5=Surprise, 6=Neutral)**"
      ],
      "metadata": {
        "id": "JhZgUcS_7EeK"
      }
    },
    {
      "cell_type": "code",
      "source": [
        "# Extract sample images\n",
        "sample_images = [np.fromstring(img, np.uint8, sep=' ').reshape((48, 48)) for img in df['pixels'][0:9]]"
      ],
      "metadata": {
        "id": "N_6iCOwH2ELc"
      },
      "execution_count": 13,
      "outputs": []
    },
    {
      "cell_type": "code",
      "source": [
        "# Plot sample images\n",
        "plt.figure(figsize=(10, 10))\n",
        "for i in range(9):\n",
        "    plt.subplot(3, 3, i+1)\n",
        "    plt.imshow(sample_images[i], cmap='gray')\n",
        "    plt.axis('off')\n",
        "plt.suptitle('Sample Images')\n",
        "plt.show()"
      ],
      "metadata": {
        "colab": {
          "base_uri": "https://localhost:8080/",
          "height": 646
        },
        "id": "29OkSDEU2Low",
        "outputId": "3efd6484-0bbc-4fdb-ba03-41d46ccb56d5"
      },
      "execution_count": 14,
      "outputs": [
        {
          "output_type": "display_data",
          "data": {
            "text/plain": [
              "<Figure size 720x720 with 9 Axes>"
            ],
            "image/png": "[encoded data removed]"
          },
          "metadata": {
            "needs_background": "light"
          }
        }
      ]
    },
    {
      "cell_type": "markdown",
      "source": [
        "## Data processing"
      ],
      "metadata": {
        "id": "TGjQXGFgK2_r"
      }
    },
    {
      "cell_type": "code",
      "source": [
        "X_train,train_y,X_test,test_y=[],[],[],[]\n",
        "\n",
        "for index, row in df.iterrows():\n",
        "    val=row['pixels'].split(\" \")\n",
        "    try:\n",
        "        if 'Training' in row['Usage']:\n",
        "           X_train.append(np.array(val,'float32'))\n",
        "           train_y.append(row['emotion'])\n",
        "        elif 'PublicTest' in row['Usage']:\n",
        "           X_test.append(np.array(val,'float32'))\n",
        "           test_y.append(row['emotion'])\n",
        "    except:\n",
        "        print(f\"error occured at index :{index} and row:{row}\")\n",
        "     "
      ],
      "metadata": {
        "id": "huTpioIkxZdn"
      },
      "execution_count": null,
      "outputs": []
    },
    {
      "cell_type": "code",
      "source": [
        "num_features = 64\n",
        "num_labels = 7\n",
        "batch_size = 64\n",
        "epochs = 200\n",
        "width, height = 48, 48"
      ],
      "metadata": {
        "id": "_poJKbg0idQK"
      },
      "execution_count": null,
      "outputs": []
    },
    {
      "cell_type": "code",
      "source": [
        "X_train = np.array(X_train,'float32')\n",
        "train_y = np.array(train_y,'float32')\n",
        "X_test = np.array(X_test,'float32')\n",
        "test_y = np.array(test_y,'float32')"
      ],
      "metadata": {
        "id": "2hWrnJgLin3h"
      },
      "execution_count": null,
      "outputs": []
    },
    {
      "cell_type": "code",
      "source": [
        "train_y=np_utils.to_categorical(train_y, num_classes=num_labels)\n",
        "test_y=np_utils.to_categorical(test_y, num_classes=num_labels)"
      ],
      "metadata": {
        "id": "KOktEgXuirNz"
      },
      "execution_count": null,
      "outputs": []
    },
    {
      "cell_type": "code",
      "source": [
        "# Convert the labels to one-hot encoding\n",
        "y_train = np_utils.to_categorical(train_data['emotion'], 7)\n",
        "y_val = np_utils.to_categorical(val_data['emotion'], 7)\n",
        "y_test = np_utils.to_categorical(test_data['emotion'], 7)"
      ],
      "metadata": {
        "id": "VYLkKJmoiuhU"
      },
      "execution_count": null,
      "outputs": []
    },
    {
      "cell_type": "code",
      "source": [
        "X_train -= np.mean(X_train, axis=0)\n",
        "X_train /= np.std(X_train, axis=0)\n",
        "\n",
        "X_test -= np.mean(X_test, axis=0)\n",
        "X_test /= np.std(X_test, axis=0)\n",
        "\n",
        "X_train = X_train.reshape(X_train.shape[0], 48, 48, 1)\n",
        "\n",
        "X_test = X_test.reshape(X_test.shape[0], 48, 48, 1)"
      ],
      "metadata": {
        "id": "b6vq3QQWixpI"
      },
      "execution_count": null,
      "outputs": []
    },
    {
      "cell_type": "markdown",
      "source": [
        "## Model building"
      ],
      "metadata": {
        "id": "O2psEePtK8K0"
      }
    },
    {
      "cell_type": "code",
      "source": [
        "model.compile(loss='categorical_crossentropy', optimizer='adam', metrics=['accuracy'])\n",
        "\n",
        "checkpoint = ModelCheckpoint('model.h5', monitor='val_accuracy', verbose=1, save_best_only=True, mode='max')\n",
        "callbacks_list = [checkpoint]\n",
        "#1st convolution layer\n",
        "model = Sequential()\n",
        "\n",
        "model.add(Conv2D(64, kernel_size=(3, 3), activation='relu', input_shape=(X_train.shape[1:])))\n",
        "model.add(Conv2D(64,kernel_size= (3, 3), activation='relu'))\n",
        "\n",
        "model.add(MaxPooling2D(pool_size=(2,2), strides=(2, 2)))\n",
        "model.add(Dropout(0.5))\n",
        "\n",
        "#2nd convolution layer\n",
        "model.add(Conv2D(64, (3, 3), activation='relu'))\n",
        "model.add(Conv2D(64, (3, 3), activation='relu'))\n",
        "\n",
        "model.add(MaxPooling2D(pool_size=(2,2), strides=(2, 2)))\n",
        "model.add(Dropout(0.5))\n",
        "\n",
        "#3rd convolution layer\n",
        "model.add(Conv2D(128, (3, 3), activation='relu'))\n",
        "model.add(Conv2D(128, (3, 3), activation='relu'))\n",
        "\n",
        "model.add(MaxPooling2D(pool_size=(2,2), strides=(2, 2)))\n",
        "\n",
        "model.add(Flatten())\n",
        "\n",
        "#fully connected neural networks\n",
        "model.add(Dense(1024, activation='relu'))\n",
        "model.add(Dropout(0.2))\n",
        "model.add(Dense(1024, activation='relu'))\n",
        "model.add(Dropout(0.2))\n",
        "\n",
        "model.add(Dense(num_labels, activation='softmax'))"
      ],
      "metadata": {
        "id": "ST54qABci2Z9"
      },
      "execution_count": null,
      "outputs": []
    },
    {
      "cell_type": "code",
      "source": [
        "model.summary()"
      ],
      "metadata": {
        "colab": {
          "base_uri": "https://localhost:8080/"
        },
        "id": "3uLHrFsTi7k_",
        "outputId": "cabd6afa-eb21-444c-d9df-d388f3a1b32e"
      },
      "execution_count": null,
      "outputs": [
        {
          "output_type": "stream",
          "name": "stdout",
          "text": [
            "Model: \"sequential_1\"\n",
            "_________________________________________________________________\n",
            " Layer (type)                Output Shape              Param #   \n",
            "=================================================================\n",
            " conv2d (Conv2D)             (None, 46, 46, 64)        640       \n",
            "                                                                 \n",
            " conv2d_1 (Conv2D)           (None, 44, 44, 64)        36928     \n",
            "                                                                 \n",
            " max_pooling2d (MaxPooling2D  (None, 22, 22, 64)       0         \n",
            " )                                                               \n",
            "                                                                 \n",
            " dropout_2 (Dropout)         (None, 22, 22, 64)        0         \n",
            "                                                                 \n",
            " conv2d_2 (Conv2D)           (None, 20, 20, 64)        36928     \n",
            "                                                                 \n",
            " conv2d_3 (Conv2D)           (None, 18, 18, 64)        36928     \n",
            "                                                                 \n",
            " max_pooling2d_1 (MaxPooling  (None, 9, 9, 64)         0         \n",
            " 2D)                                                             \n",
            "                                                                 \n",
            " dropout_3 (Dropout)         (None, 9, 9, 64)          0         \n",
            "                                                                 \n",
            " conv2d_4 (Conv2D)           (None, 7, 7, 128)         73856     \n",
            "                                                                 \n",
            " conv2d_5 (Conv2D)           (None, 5, 5, 128)         147584    \n",
            "                                                                 \n",
            " max_pooling2d_2 (MaxPooling  (None, 2, 2, 128)        0         \n",
            " 2D)                                                             \n",
            "                                                                 \n",
            " flatten (Flatten)           (None, 512)               0         \n",
            "                                                                 \n",
            " dense_1 (Dense)             (None, 1024)              525312    \n",
            "                                                                 \n",
            " dropout_4 (Dropout)         (None, 1024)              0         \n",
            "                                                                 \n",
            " dense_2 (Dense)             (None, 1024)              1049600   \n",
            "                                                                 \n",
            " dropout_5 (Dropout)         (None, 1024)              0         \n",
            "                                                                 \n",
            " dense_3 (Dense)             (None, 7)                 7175      \n",
            "                                                                 \n",
            "=================================================================\n",
            "Total params: 1,914,951\n",
            "Trainable params: 1,914,951\n",
            "Non-trainable params: 0\n",
            "_________________________________________________________________\n"
          ]
        }
      ]
    },
    {
      "cell_type": "code",
      "source": [
        "model.compile(loss=categorical_crossentropy,\n",
        "              optimizer=Adam(),\n",
        "              metrics=['accuracy'])"
      ],
      "metadata": {
        "id": "TKueOKZJi-Yg"
      },
      "execution_count": null,
      "outputs": []
    },
    {
      "cell_type": "markdown",
      "source": [
        "## Model training"
      ],
      "metadata": {
        "id": "Z98IOvn-LIco"
      }
    },
    {
      "cell_type": "code",
      "source": [
        "model.fit(X_train, train_y,\n",
        "          batch_size=batch_size,\n",
        "          epochs=190,\n",
        "          verbose=1,\n",
        "          validation_data=(X_test, test_y),\n",
        "          shuffle=True)"
      ],
      "metadata": {
        "id": "-tl6T_DBj5XQ",
        "colab": {
          "base_uri": "https://localhost:8080/"
        },
        "outputId": "d2bc3811-676d-4b07-bbcc-ccc582c45a63"
      },
      "execution_count": null,
      "outputs": [
        {
          "output_type": "stream",
          "name": "stdout",
          "text": [
            "Epoch 1/190\n",
            "449/449 [==============================] - 16s 22ms/step - loss: 1.7375 - accuracy: 0.2887 - val_loss: 1.5856 - val_accuracy: 0.3759\n",
            "Epoch 2/190\n",
            "449/449 [==============================] - 9s 20ms/step - loss: 1.5307 - accuracy: 0.3958 - val_loss: 1.3910 - val_accuracy: 0.4614\n",
            "Epoch 3/190\n",
            "449/449 [==============================] - 10s 21ms/step - loss: 1.4179 - accuracy: 0.4526 - val_loss: 1.3427 - val_accuracy: 0.4870\n",
            "Epoch 4/190\n",
            "449/449 [==============================] - 11s 23ms/step - loss: 1.3585 - accuracy: 0.4742 - val_loss: 1.2797 - val_accuracy: 0.5077\n",
            "Epoch 5/190\n",
            "449/449 [==============================] - 10s 21ms/step - loss: 1.3070 - accuracy: 0.4924 - val_loss: 1.2529 - val_accuracy: 0.5127\n",
            "Epoch 6/190\n",
            "449/449 [==============================] - 10s 23ms/step - loss: 1.2757 - accuracy: 0.5088 - val_loss: 1.2576 - val_accuracy: 0.5152\n",
            "Epoch 7/190\n",
            "449/449 [==============================] - 11s 24ms/step - loss: 1.2426 - accuracy: 0.5253 - val_loss: 1.2069 - val_accuracy: 0.5378\n",
            "Epoch 8/190\n",
            "449/449 [==============================] - 10s 23ms/step - loss: 1.2147 - accuracy: 0.5360 - val_loss: 1.2020 - val_accuracy: 0.5325\n",
            "Epoch 9/190\n",
            "449/449 [==============================] - 9s 20ms/step - loss: 1.1915 - accuracy: 0.5435 - val_loss: 1.2129 - val_accuracy: 0.5364\n",
            "Epoch 10/190\n",
            "449/449 [==============================] - 9s 21ms/step - loss: 1.1715 - accuracy: 0.5556 - val_loss: 1.1707 - val_accuracy: 0.5492\n",
            "Epoch 11/190\n",
            "449/449 [==============================] - 10s 22ms/step - loss: 1.1495 - accuracy: 0.5592 - val_loss: 1.1695 - val_accuracy: 0.5525\n",
            "Epoch 12/190\n",
            "449/449 [==============================] - 10s 21ms/step - loss: 1.1370 - accuracy: 0.5665 - val_loss: 1.1738 - val_accuracy: 0.5592\n",
            "Epoch 13/190\n",
            "449/449 [==============================] - 10s 22ms/step - loss: 1.1208 - accuracy: 0.5727 - val_loss: 1.1583 - val_accuracy: 0.5617\n",
            "Epoch 14/190\n",
            "449/449 [==============================] - 10s 22ms/step - loss: 1.1018 - accuracy: 0.5771 - val_loss: 1.1721 - val_accuracy: 0.5639\n",
            "Epoch 15/190\n",
            "449/449 [==============================] - 10s 22ms/step - loss: 1.0857 - accuracy: 0.5880 - val_loss: 1.1494 - val_accuracy: 0.5609\n",
            "Epoch 16/190\n",
            "449/449 [==============================] - 9s 21ms/step - loss: 1.0713 - accuracy: 0.5927 - val_loss: 1.1520 - val_accuracy: 0.5681\n",
            "Epoch 17/190\n",
            "449/449 [==============================] - 10s 22ms/step - loss: 1.0483 - accuracy: 0.5982 - val_loss: 1.1794 - val_accuracy: 0.5598\n",
            "Epoch 18/190\n",
            "449/449 [==============================] - 10s 22ms/step - loss: 1.0380 - accuracy: 0.6030 - val_loss: 1.1656 - val_accuracy: 0.5581\n",
            "Epoch 19/190\n",
            "449/449 [==============================] - 10s 22ms/step - loss: 1.0279 - accuracy: 0.6080 - val_loss: 1.1485 - val_accuracy: 0.5809\n",
            "Epoch 20/190\n",
            "449/449 [==============================] - 9s 21ms/step - loss: 1.0097 - accuracy: 0.6154 - val_loss: 1.1434 - val_accuracy: 0.5731\n",
            "Epoch 21/190\n",
            "449/449 [==============================] - 10s 22ms/step - loss: 0.9957 - accuracy: 0.6215 - val_loss: 1.1602 - val_accuracy: 0.5740\n",
            "Epoch 22/190\n",
            "449/449 [==============================] - 10s 22ms/step - loss: 0.9880 - accuracy: 0.6231 - val_loss: 1.1547 - val_accuracy: 0.5754\n",
            "Epoch 23/190\n",
            "449/449 [==============================] - 10s 21ms/step - loss: 0.9682 - accuracy: 0.6336 - val_loss: 1.1838 - val_accuracy: 0.5600\n",
            "Epoch 24/190\n",
            "449/449 [==============================] - 10s 22ms/step - loss: 0.9502 - accuracy: 0.6389 - val_loss: 1.1711 - val_accuracy: 0.5762\n",
            "Epoch 25/190\n",
            "449/449 [==============================] - 10s 21ms/step - loss: 0.9460 - accuracy: 0.6421 - val_loss: 1.1759 - val_accuracy: 0.5670\n",
            "Epoch 26/190\n",
            "449/449 [==============================] - 10s 22ms/step - loss: 0.9377 - accuracy: 0.6411 - val_loss: 1.1726 - val_accuracy: 0.5768\n",
            "Epoch 27/190\n",
            "449/449 [==============================] - 9s 21ms/step - loss: 0.9191 - accuracy: 0.6480 - val_loss: 1.1705 - val_accuracy: 0.5765\n",
            "Epoch 28/190\n",
            "449/449 [==============================] - 10s 21ms/step - loss: 0.8980 - accuracy: 0.6545 - val_loss: 1.2008 - val_accuracy: 0.5762\n",
            "Epoch 29/190\n",
            "449/449 [==============================] - 10s 22ms/step - loss: 0.8929 - accuracy: 0.6604 - val_loss: 1.1801 - val_accuracy: 0.5899\n",
            "Epoch 30/190\n",
            "449/449 [==============================] - 9s 21ms/step - loss: 0.8746 - accuracy: 0.6671 - val_loss: 1.1910 - val_accuracy: 0.5776\n",
            "Epoch 31/190\n",
            "449/449 [==============================] - 10s 22ms/step - loss: 0.8696 - accuracy: 0.6669 - val_loss: 1.2036 - val_accuracy: 0.5804\n",
            "Epoch 32/190\n",
            "449/449 [==============================] - 10s 22ms/step - loss: 0.8537 - accuracy: 0.6780 - val_loss: 1.2067 - val_accuracy: 0.5690\n",
            "Epoch 33/190\n",
            "449/449 [==============================] - 9s 21ms/step - loss: 0.8483 - accuracy: 0.6768 - val_loss: 1.2232 - val_accuracy: 0.5676\n",
            "Epoch 34/190\n",
            "449/449 [==============================] - 9s 21ms/step - loss: 0.8361 - accuracy: 0.6831 - val_loss: 1.2107 - val_accuracy: 0.5762\n",
            "Epoch 35/190\n",
            "449/449 [==============================] - 10s 22ms/step - loss: 0.8146 - accuracy: 0.6905 - val_loss: 1.2479 - val_accuracy: 0.5751\n",
            "Epoch 36/190\n",
            "449/449 [==============================] - 10s 22ms/step - loss: 0.8062 - accuracy: 0.6961 - val_loss: 1.2006 - val_accuracy: 0.5717\n",
            "Epoch 37/190\n",
            "449/449 [==============================] - 10s 22ms/step - loss: 0.8019 - accuracy: 0.6957 - val_loss: 1.2487 - val_accuracy: 0.5706\n",
            "Epoch 38/190\n",
            "449/449 [==============================] - 10s 21ms/step - loss: 0.7846 - accuracy: 0.7061 - val_loss: 1.2642 - val_accuracy: 0.5709\n",
            "Epoch 39/190\n",
            "449/449 [==============================] - 10s 21ms/step - loss: 0.7801 - accuracy: 0.7059 - val_loss: 1.2354 - val_accuracy: 0.5818\n",
            "Epoch 40/190\n",
            "449/449 [==============================] - 9s 21ms/step - loss: 0.7586 - accuracy: 0.7144 - val_loss: 1.2452 - val_accuracy: 0.5837\n",
            "Epoch 41/190\n",
            "449/449 [==============================] - 10s 22ms/step - loss: 0.7604 - accuracy: 0.7148 - val_loss: 1.2620 - val_accuracy: 0.5740\n",
            "Epoch 42/190\n",
            "449/449 [==============================] - 10s 22ms/step - loss: 0.7479 - accuracy: 0.7175 - val_loss: 1.2886 - val_accuracy: 0.5790\n",
            "Epoch 43/190\n",
            "449/449 [==============================] - 9s 21ms/step - loss: 0.7391 - accuracy: 0.7235 - val_loss: 1.2970 - val_accuracy: 0.5631\n",
            "Epoch 44/190\n",
            "449/449 [==============================] - 10s 22ms/step - loss: 0.7344 - accuracy: 0.7236 - val_loss: 1.3229 - val_accuracy: 0.5745\n",
            "Epoch 45/190\n",
            "449/449 [==============================] - 10s 22ms/step - loss: 0.7203 - accuracy: 0.7267 - val_loss: 1.2815 - val_accuracy: 0.5773\n",
            "Epoch 46/190\n",
            "449/449 [==============================] - 10s 23ms/step - loss: 0.7035 - accuracy: 0.7342 - val_loss: 1.3156 - val_accuracy: 0.5832\n",
            "Epoch 47/190\n",
            "449/449 [==============================] - 10s 22ms/step - loss: 0.7135 - accuracy: 0.7330 - val_loss: 1.2979 - val_accuracy: 0.5770\n",
            "Epoch 48/190\n",
            "449/449 [==============================] - 10s 22ms/step - loss: 0.6880 - accuracy: 0.7395 - val_loss: 1.3245 - val_accuracy: 0.5812\n",
            "Epoch 49/190\n",
            "449/449 [==============================] - 10s 22ms/step - loss: 0.6881 - accuracy: 0.7404 - val_loss: 1.3453 - val_accuracy: 0.5715\n",
            "Epoch 50/190\n",
            "449/449 [==============================] - 9s 21ms/step - loss: 0.6789 - accuracy: 0.7477 - val_loss: 1.3203 - val_accuracy: 0.5659\n",
            "Epoch 51/190\n",
            "449/449 [==============================] - 9s 21ms/step - loss: 0.6755 - accuracy: 0.7487 - val_loss: 1.3098 - val_accuracy: 0.5851\n",
            "Epoch 52/190\n",
            "449/449 [==============================] - 9s 21ms/step - loss: 0.6519 - accuracy: 0.7585 - val_loss: 1.3281 - val_accuracy: 0.5874\n",
            "Epoch 53/190\n",
            "449/449 [==============================] - 10s 22ms/step - loss: 0.6503 - accuracy: 0.7573 - val_loss: 1.4068 - val_accuracy: 0.5665\n",
            "Epoch 54/190\n",
            "449/449 [==============================] - 10s 21ms/step - loss: 0.6476 - accuracy: 0.7575 - val_loss: 1.3792 - val_accuracy: 0.5712\n",
            "Epoch 55/190\n",
            "449/449 [==============================] - 10s 21ms/step - loss: 0.6469 - accuracy: 0.7599 - val_loss: 1.3321 - val_accuracy: 0.5712\n",
            "Epoch 56/190\n",
            "449/449 [==============================] - 10s 21ms/step - loss: 0.6373 - accuracy: 0.7631 - val_loss: 1.3645 - val_accuracy: 0.5773\n",
            "Epoch 57/190\n",
            "449/449 [==============================] - 10s 22ms/step - loss: 0.6415 - accuracy: 0.7651 - val_loss: 1.3204 - val_accuracy: 0.5695\n",
            "Epoch 58/190\n",
            "449/449 [==============================] - 9s 21ms/step - loss: 0.6354 - accuracy: 0.7630 - val_loss: 1.3589 - val_accuracy: 0.5754\n",
            "Epoch 59/190\n",
            "449/449 [==============================] - 10s 22ms/step - loss: 0.6134 - accuracy: 0.7697 - val_loss: 1.4121 - val_accuracy: 0.5712\n",
            "Epoch 60/190\n",
            "449/449 [==============================] - 10s 22ms/step - loss: 0.6130 - accuracy: 0.7770 - val_loss: 1.3884 - val_accuracy: 0.5678\n",
            "Epoch 61/190\n",
            "449/449 [==============================] - 10s 22ms/step - loss: 0.6119 - accuracy: 0.7726 - val_loss: 1.3612 - val_accuracy: 0.5782\n",
            "Epoch 62/190\n",
            "449/449 [==============================] - 9s 21ms/step - loss: 0.5990 - accuracy: 0.7771 - val_loss: 1.3935 - val_accuracy: 0.5743\n",
            "Epoch 63/190\n",
            "449/449 [==============================] - 10s 22ms/step - loss: 0.5983 - accuracy: 0.7808 - val_loss: 1.3995 - val_accuracy: 0.5748\n",
            "Epoch 64/190\n",
            "449/449 [==============================] - 10s 22ms/step - loss: 0.5810 - accuracy: 0.7868 - val_loss: 1.4260 - val_accuracy: 0.5620\n",
            "Epoch 65/190\n",
            "449/449 [==============================] - 9s 21ms/step - loss: 0.5847 - accuracy: 0.7840 - val_loss: 1.4068 - val_accuracy: 0.5812\n",
            "Epoch 66/190\n",
            "449/449 [==============================] - 10s 21ms/step - loss: 0.5779 - accuracy: 0.7859 - val_loss: 1.3958 - val_accuracy: 0.5782\n",
            "Epoch 67/190\n",
            "449/449 [==============================] - 10s 22ms/step - loss: 0.5674 - accuracy: 0.7913 - val_loss: 1.4394 - val_accuracy: 0.5745\n",
            "Epoch 68/190\n",
            "449/449 [==============================] - 10s 22ms/step - loss: 0.5670 - accuracy: 0.7944 - val_loss: 1.3940 - val_accuracy: 0.5843\n",
            "Epoch 69/190\n",
            "449/449 [==============================] - 10s 21ms/step - loss: 0.5699 - accuracy: 0.7907 - val_loss: 1.3942 - val_accuracy: 0.5773\n",
            "Epoch 70/190\n",
            "449/449 [==============================] - 10s 21ms/step - loss: 0.5588 - accuracy: 0.7941 - val_loss: 1.4197 - val_accuracy: 0.5745\n",
            "Epoch 71/190\n",
            "449/449 [==============================] - 10s 22ms/step - loss: 0.5489 - accuracy: 0.7986 - val_loss: 1.4506 - val_accuracy: 0.5773\n",
            "Epoch 72/190\n",
            "449/449 [==============================] - 9s 21ms/step - loss: 0.5600 - accuracy: 0.7967 - val_loss: 1.3777 - val_accuracy: 0.5768\n",
            "Epoch 73/190\n",
            "449/449 [==============================] - 10s 21ms/step - loss: 0.5409 - accuracy: 0.8011 - val_loss: 1.4392 - val_accuracy: 0.5670\n",
            "Epoch 74/190\n",
            "449/449 [==============================] - 10s 22ms/step - loss: 0.5362 - accuracy: 0.8027 - val_loss: 1.4267 - val_accuracy: 0.5784\n",
            "Epoch 75/190\n",
            "449/449 [==============================] - 9s 21ms/step - loss: 0.5265 - accuracy: 0.8085 - val_loss: 1.4624 - val_accuracy: 0.5670\n",
            "Epoch 76/190\n",
            "449/449 [==============================] - 10s 21ms/step - loss: 0.5266 - accuracy: 0.8091 - val_loss: 1.4949 - val_accuracy: 0.5681\n",
            "Epoch 77/190\n",
            "449/449 [==============================] - 10s 22ms/step - loss: 0.5243 - accuracy: 0.8100 - val_loss: 1.5073 - val_accuracy: 0.5709\n",
            "Epoch 78/190\n",
            "449/449 [==============================] - 10s 22ms/step - loss: 0.5186 - accuracy: 0.8109 - val_loss: 1.4973 - val_accuracy: 0.5762\n",
            "Epoch 79/190\n",
            "449/449 [==============================] - 10s 22ms/step - loss: 0.5210 - accuracy: 0.8101 - val_loss: 1.4634 - val_accuracy: 0.5731\n",
            "Epoch 80/190\n",
            "449/449 [==============================] - 10s 21ms/step - loss: 0.5115 - accuracy: 0.8159 - val_loss: 1.4937 - val_accuracy: 0.5681\n",
            "Epoch 81/190\n",
            "449/449 [==============================] - 10s 22ms/step - loss: 0.5068 - accuracy: 0.8167 - val_loss: 1.5235 - val_accuracy: 0.5815\n",
            "Epoch 82/190\n",
            "449/449 [==============================] - 9s 21ms/step - loss: 0.5101 - accuracy: 0.8148 - val_loss: 1.5311 - val_accuracy: 0.5662\n",
            "Epoch 83/190\n",
            "449/449 [==============================] - 10s 21ms/step - loss: 0.5156 - accuracy: 0.8153 - val_loss: 1.4959 - val_accuracy: 0.5701\n",
            "Epoch 84/190\n",
            "449/449 [==============================] - 10s 22ms/step - loss: 0.5036 - accuracy: 0.8166 - val_loss: 1.5440 - val_accuracy: 0.5762\n",
            "Epoch 85/190\n",
            "449/449 [==============================] - 10s 22ms/step - loss: 0.4890 - accuracy: 0.8237 - val_loss: 1.5396 - val_accuracy: 0.5667\n",
            "Epoch 86/190\n",
            "449/449 [==============================] - 10s 22ms/step - loss: 0.4939 - accuracy: 0.8217 - val_loss: 1.5132 - val_accuracy: 0.5787\n",
            "Epoch 87/190\n",
            "449/449 [==============================] - 10s 22ms/step - loss: 0.4937 - accuracy: 0.8230 - val_loss: 1.5300 - val_accuracy: 0.5704\n",
            "Epoch 88/190\n",
            "449/449 [==============================] - 10s 21ms/step - loss: 0.4898 - accuracy: 0.8237 - val_loss: 1.6045 - val_accuracy: 0.5673\n",
            "Epoch 89/190\n",
            "449/449 [==============================] - 10s 22ms/step - loss: 0.4799 - accuracy: 0.8279 - val_loss: 1.5823 - val_accuracy: 0.5729\n",
            "Epoch 90/190\n",
            "449/449 [==============================] - 9s 21ms/step - loss: 0.4666 - accuracy: 0.8313 - val_loss: 1.5671 - val_accuracy: 0.5793\n",
            "Epoch 91/190\n",
            "449/449 [==============================] - 10s 21ms/step - loss: 0.4780 - accuracy: 0.8286 - val_loss: 1.6053 - val_accuracy: 0.5712\n",
            "Epoch 92/190\n",
            "449/449 [==============================] - 10s 22ms/step - loss: 0.4711 - accuracy: 0.8303 - val_loss: 1.5489 - val_accuracy: 0.5815\n",
            "Epoch 93/190\n",
            "449/449 [==============================] - 10s 22ms/step - loss: 0.4608 - accuracy: 0.8368 - val_loss: 1.5652 - val_accuracy: 0.5801\n",
            "Epoch 94/190\n",
            "449/449 [==============================] - 10s 22ms/step - loss: 0.4732 - accuracy: 0.8296 - val_loss: 1.5725 - val_accuracy: 0.5748\n",
            "Epoch 95/190\n",
            "449/449 [==============================] - 10s 22ms/step - loss: 0.4574 - accuracy: 0.8360 - val_loss: 1.6036 - val_accuracy: 0.5748\n",
            "Epoch 96/190\n",
            "449/449 [==============================] - 9s 21ms/step - loss: 0.4695 - accuracy: 0.8345 - val_loss: 1.5428 - val_accuracy: 0.5787\n",
            "Epoch 97/190\n",
            "449/449 [==============================] - 9s 21ms/step - loss: 0.4521 - accuracy: 0.8400 - val_loss: 1.5982 - val_accuracy: 0.5748\n",
            "Epoch 98/190\n",
            "449/449 [==============================] - 10s 22ms/step - loss: 0.4520 - accuracy: 0.8394 - val_loss: 1.6140 - val_accuracy: 0.5787\n",
            "Epoch 99/190\n",
            "449/449 [==============================] - 10s 22ms/step - loss: 0.4528 - accuracy: 0.8403 - val_loss: 1.6650 - val_accuracy: 0.5684\n",
            "Epoch 100/190\n",
            "449/449 [==============================] - 9s 21ms/step - loss: 0.4469 - accuracy: 0.8394 - val_loss: 1.6014 - val_accuracy: 0.5754\n",
            "Epoch 101/190\n",
            "449/449 [==============================] - 10s 21ms/step - loss: 0.4617 - accuracy: 0.8371 - val_loss: 1.6342 - val_accuracy: 0.5709\n",
            "Epoch 102/190\n",
            "449/449 [==============================] - 10s 22ms/step - loss: 0.4492 - accuracy: 0.8417 - val_loss: 1.6338 - val_accuracy: 0.5701\n",
            "Epoch 103/190\n",
            "449/449 [==============================] - 10s 22ms/step - loss: 0.4443 - accuracy: 0.8442 - val_loss: 1.5995 - val_accuracy: 0.5673\n",
            "Epoch 104/190\n",
            "449/449 [==============================] - 10s 21ms/step - loss: 0.4382 - accuracy: 0.8441 - val_loss: 1.5911 - val_accuracy: 0.5726\n",
            "Epoch 105/190\n",
            "449/449 [==============================] - 10s 22ms/step - loss: 0.4412 - accuracy: 0.8438 - val_loss: 1.6377 - val_accuracy: 0.5801\n",
            "Epoch 106/190\n",
            "449/449 [==============================] - 10s 22ms/step - loss: 0.4375 - accuracy: 0.8447 - val_loss: 1.5879 - val_accuracy: 0.5754\n",
            "Epoch 107/190\n",
            "449/449 [==============================] - 9s 21ms/step - loss: 0.4328 - accuracy: 0.8460 - val_loss: 1.6527 - val_accuracy: 0.5717\n",
            "Epoch 108/190\n",
            "449/449 [==============================] - 10s 22ms/step - loss: 0.4362 - accuracy: 0.8464 - val_loss: 1.6661 - val_accuracy: 0.5751\n",
            "Epoch 109/190\n",
            "449/449 [==============================] - 9s 21ms/step - loss: 0.4291 - accuracy: 0.8474 - val_loss: 1.6341 - val_accuracy: 0.5651\n",
            "Epoch 110/190\n",
            "449/449 [==============================] - 10s 22ms/step - loss: 0.4250 - accuracy: 0.8500 - val_loss: 1.7182 - val_accuracy: 0.5754\n",
            "Epoch 111/190\n",
            "449/449 [==============================] - 10s 21ms/step - loss: 0.4238 - accuracy: 0.8498 - val_loss: 1.6362 - val_accuracy: 0.5776\n",
            "Epoch 112/190\n",
            "449/449 [==============================] - 10s 21ms/step - loss: 0.4287 - accuracy: 0.8514 - val_loss: 1.6772 - val_accuracy: 0.5648\n",
            "Epoch 113/190\n",
            "449/449 [==============================] - 10s 22ms/step - loss: 0.4102 - accuracy: 0.8546 - val_loss: 1.6157 - val_accuracy: 0.5837\n",
            "Epoch 114/190\n",
            "449/449 [==============================] - 9s 21ms/step - loss: 0.4185 - accuracy: 0.8522 - val_loss: 1.5746 - val_accuracy: 0.5729\n",
            "Epoch 115/190\n",
            "449/449 [==============================] - 10s 21ms/step - loss: 0.4199 - accuracy: 0.8520 - val_loss: 1.6916 - val_accuracy: 0.5734\n",
            "Epoch 116/190\n",
            "449/449 [==============================] - 10s 21ms/step - loss: 0.4150 - accuracy: 0.8542 - val_loss: 1.6804 - val_accuracy: 0.5740\n",
            "Epoch 117/190\n",
            "449/449 [==============================] - 10s 22ms/step - loss: 0.4024 - accuracy: 0.8573 - val_loss: 1.7115 - val_accuracy: 0.5793\n",
            "Epoch 118/190\n",
            "449/449 [==============================] - 10s 21ms/step - loss: 0.4042 - accuracy: 0.8561 - val_loss: 1.7214 - val_accuracy: 0.5626\n",
            "Epoch 119/190\n",
            "449/449 [==============================] - 10s 21ms/step - loss: 0.4028 - accuracy: 0.8633 - val_loss: 1.6561 - val_accuracy: 0.5776\n",
            "Epoch 120/190\n",
            "449/449 [==============================] - 10s 22ms/step - loss: 0.4020 - accuracy: 0.8615 - val_loss: 1.6955 - val_accuracy: 0.5773\n",
            "Epoch 121/190\n",
            "449/449 [==============================] - 9s 21ms/step - loss: 0.4072 - accuracy: 0.8561 - val_loss: 1.7167 - val_accuracy: 0.5726\n",
            "Epoch 122/190\n",
            "449/449 [==============================] - 10s 22ms/step - loss: 0.3997 - accuracy: 0.8591 - val_loss: 1.7943 - val_accuracy: 0.5731\n",
            "Epoch 123/190\n",
            "449/449 [==============================] - 10s 22ms/step - loss: 0.4005 - accuracy: 0.8590 - val_loss: 1.6187 - val_accuracy: 0.5793\n",
            "Epoch 124/190\n",
            "449/449 [==============================] - 10s 22ms/step - loss: 0.4070 - accuracy: 0.8598 - val_loss: 1.6511 - val_accuracy: 0.5784\n",
            "Epoch 125/190\n",
            "449/449 [==============================] - 10s 22ms/step - loss: 0.4013 - accuracy: 0.8622 - val_loss: 1.7318 - val_accuracy: 0.5556\n",
            "Epoch 126/190\n",
            "449/449 [==============================] - 10s 22ms/step - loss: 0.4011 - accuracy: 0.8611 - val_loss: 1.7646 - val_accuracy: 0.5645\n",
            "Epoch 127/190\n",
            "449/449 [==============================] - 10s 22ms/step - loss: 0.3901 - accuracy: 0.8629 - val_loss: 1.6699 - val_accuracy: 0.5701\n",
            "Epoch 128/190\n",
            "449/449 [==============================] - 9s 21ms/step - loss: 0.3934 - accuracy: 0.8634 - val_loss: 1.7519 - val_accuracy: 0.5717\n",
            "Epoch 129/190\n",
            "449/449 [==============================] - 10s 22ms/step - loss: 0.3876 - accuracy: 0.8650 - val_loss: 1.7170 - val_accuracy: 0.5812\n",
            "Epoch 130/190\n",
            "449/449 [==============================] - 10s 21ms/step - loss: 0.3923 - accuracy: 0.8645 - val_loss: 1.7023 - val_accuracy: 0.5729\n",
            "Epoch 131/190\n",
            "449/449 [==============================] - 10s 22ms/step - loss: 0.3886 - accuracy: 0.8667 - val_loss: 1.7591 - val_accuracy: 0.5656\n",
            "Epoch 132/190\n",
            "449/449 [==============================] - 9s 21ms/step - loss: 0.3951 - accuracy: 0.8631 - val_loss: 1.7392 - val_accuracy: 0.5709\n",
            "Epoch 133/190\n",
            "449/449 [==============================] - 10s 21ms/step - loss: 0.3802 - accuracy: 0.8679 - val_loss: 1.6848 - val_accuracy: 0.5678\n",
            "Epoch 134/190\n",
            "449/449 [==============================] - 10s 22ms/step - loss: 0.3774 - accuracy: 0.8682 - val_loss: 1.6892 - val_accuracy: 0.5651\n",
            "Epoch 135/190\n",
            "449/449 [==============================] - 10s 22ms/step - loss: 0.3870 - accuracy: 0.8636 - val_loss: 1.7480 - val_accuracy: 0.5704\n",
            "Epoch 136/190\n",
            "449/449 [==============================] - 10s 22ms/step - loss: 0.3784 - accuracy: 0.8687 - val_loss: 1.7894 - val_accuracy: 0.5681\n",
            "Epoch 137/190\n",
            "449/449 [==============================] - 10s 21ms/step - loss: 0.3840 - accuracy: 0.8688 - val_loss: 1.7092 - val_accuracy: 0.5612\n",
            "Epoch 138/190\n",
            "449/449 [==============================] - 9s 21ms/step - loss: 0.3735 - accuracy: 0.8697 - val_loss: 1.7569 - val_accuracy: 0.5667\n",
            "Epoch 139/190\n",
            "449/449 [==============================] - 10s 22ms/step - loss: 0.3793 - accuracy: 0.8666 - val_loss: 1.7419 - val_accuracy: 0.5681\n",
            "Epoch 140/190\n",
            "449/449 [==============================] - 10s 21ms/step - loss: 0.3795 - accuracy: 0.8689 - val_loss: 1.7522 - val_accuracy: 0.5684\n",
            "Epoch 141/190\n",
            "449/449 [==============================] - 10s 22ms/step - loss: 0.3776 - accuracy: 0.8694 - val_loss: 1.6603 - val_accuracy: 0.5729\n",
            "Epoch 142/190\n",
            "449/449 [==============================] - 9s 21ms/step - loss: 0.3764 - accuracy: 0.8720 - val_loss: 1.7305 - val_accuracy: 0.5670\n",
            "Epoch 143/190\n",
            "449/449 [==============================] - 10s 21ms/step - loss: 0.3698 - accuracy: 0.8728 - val_loss: 1.7222 - val_accuracy: 0.5737\n",
            "Epoch 144/190\n",
            "449/449 [==============================] - 10s 22ms/step - loss: 0.3743 - accuracy: 0.8721 - val_loss: 1.7513 - val_accuracy: 0.5731\n",
            "Epoch 145/190\n",
            "449/449 [==============================] - 10s 22ms/step - loss: 0.3765 - accuracy: 0.8714 - val_loss: 1.7962 - val_accuracy: 0.5673\n",
            "Epoch 146/190\n",
            "449/449 [==============================] - 10s 21ms/step - loss: 0.3680 - accuracy: 0.8717 - val_loss: 1.7298 - val_accuracy: 0.5681\n",
            "Epoch 147/190\n",
            "449/449 [==============================] - 10s 21ms/step - loss: 0.3640 - accuracy: 0.8755 - val_loss: 1.6802 - val_accuracy: 0.5745\n",
            "Epoch 148/190\n",
            "449/449 [==============================] - 10s 22ms/step - loss: 0.3686 - accuracy: 0.8727 - val_loss: 1.7214 - val_accuracy: 0.5731\n",
            "Epoch 149/190\n",
            "449/449 [==============================] - 9s 21ms/step - loss: 0.3642 - accuracy: 0.8744 - val_loss: 1.7173 - val_accuracy: 0.5737\n",
            "Epoch 150/190\n",
            "449/449 [==============================] - 10s 21ms/step - loss: 0.3680 - accuracy: 0.8729 - val_loss: 1.7508 - val_accuracy: 0.5709\n",
            "Epoch 151/190\n",
            "449/449 [==============================] - 9s 21ms/step - loss: 0.3622 - accuracy: 0.8749 - val_loss: 1.7653 - val_accuracy: 0.5642\n",
            "Epoch 152/190\n",
            "449/449 [==============================] - 9s 21ms/step - loss: 0.3570 - accuracy: 0.8777 - val_loss: 1.8130 - val_accuracy: 0.5667\n",
            "Epoch 153/190\n",
            "449/449 [==============================] - 10s 21ms/step - loss: 0.3594 - accuracy: 0.8767 - val_loss: 1.8011 - val_accuracy: 0.5626\n",
            "Epoch 154/190\n",
            "449/449 [==============================] - 10s 22ms/step - loss: 0.3568 - accuracy: 0.8763 - val_loss: 1.7328 - val_accuracy: 0.5645\n",
            "Epoch 155/190\n",
            "449/449 [==============================] - 10s 22ms/step - loss: 0.3610 - accuracy: 0.8770 - val_loss: 1.8003 - val_accuracy: 0.5542\n",
            "Epoch 156/190\n",
            "449/449 [==============================] - 10s 22ms/step - loss: 0.3564 - accuracy: 0.8762 - val_loss: 1.7392 - val_accuracy: 0.5637\n",
            "Epoch 157/190\n",
            "449/449 [==============================] - 10s 22ms/step - loss: 0.3550 - accuracy: 0.8778 - val_loss: 1.7227 - val_accuracy: 0.5662\n",
            "Epoch 158/190\n",
            "449/449 [==============================] - 10s 21ms/step - loss: 0.3512 - accuracy: 0.8791 - val_loss: 1.7949 - val_accuracy: 0.5637\n",
            "Epoch 159/190\n",
            "449/449 [==============================] - 10s 21ms/step - loss: 0.3623 - accuracy: 0.8775 - val_loss: 1.8236 - val_accuracy: 0.5704\n",
            "Epoch 160/190\n",
            "449/449 [==============================] - 10s 22ms/step - loss: 0.3409 - accuracy: 0.8836 - val_loss: 1.8122 - val_accuracy: 0.5573\n",
            "Epoch 161/190\n",
            "449/449 [==============================] - 10s 21ms/step - loss: 0.3518 - accuracy: 0.8799 - val_loss: 1.7357 - val_accuracy: 0.5637\n",
            "Epoch 162/190\n",
            "449/449 [==============================] - 10s 21ms/step - loss: 0.3492 - accuracy: 0.8811 - val_loss: 1.7329 - val_accuracy: 0.5648\n",
            "Epoch 163/190\n",
            "449/449 [==============================] - 10s 22ms/step - loss: 0.3518 - accuracy: 0.8812 - val_loss: 1.7777 - val_accuracy: 0.5698\n",
            "Epoch 164/190\n",
            "449/449 [==============================] - 10s 21ms/step - loss: 0.3390 - accuracy: 0.8815 - val_loss: 1.8345 - val_accuracy: 0.5676\n",
            "Epoch 165/190\n",
            "449/449 [==============================] - 10s 22ms/step - loss: 0.3506 - accuracy: 0.8805 - val_loss: 1.7743 - val_accuracy: 0.5704\n",
            "Epoch 166/190\n",
            "449/449 [==============================] - 10s 22ms/step - loss: 0.3424 - accuracy: 0.8853 - val_loss: 1.8573 - val_accuracy: 0.5681\n",
            "Epoch 167/190\n",
            "449/449 [==============================] - 10s 22ms/step - loss: 0.3448 - accuracy: 0.8836 - val_loss: 1.7730 - val_accuracy: 0.5684\n",
            "Epoch 168/190\n",
            "449/449 [==============================] - 10s 21ms/step - loss: 0.3484 - accuracy: 0.8815 - val_loss: 1.7242 - val_accuracy: 0.5620\n",
            "Epoch 169/190\n",
            "449/449 [==============================] - 10s 22ms/step - loss: 0.3583 - accuracy: 0.8767 - val_loss: 1.8279 - val_accuracy: 0.5656\n",
            "Epoch 170/190\n",
            "449/449 [==============================] - 9s 21ms/step - loss: 0.3610 - accuracy: 0.8772 - val_loss: 1.8229 - val_accuracy: 0.5665\n",
            "Epoch 171/190\n",
            "449/449 [==============================] - 10s 22ms/step - loss: 0.3474 - accuracy: 0.8829 - val_loss: 1.7949 - val_accuracy: 0.5709\n",
            "Epoch 172/190\n",
            "449/449 [==============================] - 10s 21ms/step - loss: 0.3404 - accuracy: 0.8836 - val_loss: 1.8559 - val_accuracy: 0.5623\n",
            "Epoch 173/190\n",
            "449/449 [==============================] - 10s 22ms/step - loss: 0.3461 - accuracy: 0.8850 - val_loss: 1.7832 - val_accuracy: 0.5603\n",
            "Epoch 174/190\n",
            "449/449 [==============================] - 10s 21ms/step - loss: 0.3296 - accuracy: 0.8854 - val_loss: 1.7964 - val_accuracy: 0.5609\n",
            "Epoch 175/190\n",
            "449/449 [==============================] - 10s 21ms/step - loss: 0.3329 - accuracy: 0.8867 - val_loss: 1.8430 - val_accuracy: 0.5681\n",
            "Epoch 176/190\n",
            "449/449 [==============================] - 10s 22ms/step - loss: 0.3528 - accuracy: 0.8793 - val_loss: 1.9034 - val_accuracy: 0.5681\n",
            "Epoch 177/190\n",
            "449/449 [==============================] - 10s 22ms/step - loss: 0.3214 - accuracy: 0.8912 - val_loss: 1.8861 - val_accuracy: 0.5720\n",
            "Epoch 178/190\n",
            "449/449 [==============================] - 10s 21ms/step - loss: 0.3287 - accuracy: 0.8858 - val_loss: 1.8844 - val_accuracy: 0.5559\n",
            "Epoch 179/190\n",
            "449/449 [==============================] - 10s 21ms/step - loss: 0.3355 - accuracy: 0.8882 - val_loss: 1.8586 - val_accuracy: 0.5729\n",
            "Epoch 180/190\n",
            "449/449 [==============================] - 9s 21ms/step - loss: 0.3350 - accuracy: 0.8879 - val_loss: 1.7077 - val_accuracy: 0.5651\n",
            "Epoch 181/190\n",
            "449/449 [==============================] - 10s 21ms/step - loss: 0.3279 - accuracy: 0.8877 - val_loss: 1.8351 - val_accuracy: 0.5642\n",
            "Epoch 182/190\n",
            "449/449 [==============================] - 10s 22ms/step - loss: 0.3219 - accuracy: 0.8917 - val_loss: 1.8506 - val_accuracy: 0.5651\n",
            "Epoch 183/190\n",
            "449/449 [==============================] - 10s 22ms/step - loss: 0.3290 - accuracy: 0.8895 - val_loss: 1.8320 - val_accuracy: 0.5645\n",
            "Epoch 184/190\n",
            "449/449 [==============================] - 10s 22ms/step - loss: 0.3423 - accuracy: 0.8841 - val_loss: 1.7974 - val_accuracy: 0.5748\n",
            "Epoch 185/190\n",
            "449/449 [==============================] - 10s 21ms/step - loss: 0.3410 - accuracy: 0.8861 - val_loss: 1.7876 - val_accuracy: 0.5731\n",
            "Epoch 186/190\n",
            "449/449 [==============================] - 10s 22ms/step - loss: 0.3154 - accuracy: 0.8897 - val_loss: 1.9349 - val_accuracy: 0.5673\n",
            "Epoch 187/190\n",
            "449/449 [==============================] - 9s 21ms/step - loss: 0.3216 - accuracy: 0.8907 - val_loss: 1.8725 - val_accuracy: 0.5667\n",
            "Epoch 188/190\n",
            "449/449 [==============================] - 10s 22ms/step - loss: 0.3191 - accuracy: 0.8923 - val_loss: 1.9184 - val_accuracy: 0.5704\n",
            "Epoch 189/190\n",
            "449/449 [==============================] - 10s 22ms/step - loss: 0.3165 - accuracy: 0.8908 - val_loss: 1.8645 - val_accuracy: 0.5645\n",
            "Epoch 190/190\n",
            "449/449 [==============================] - 10s 22ms/step - loss: 0.3224 - accuracy: 0.8921 - val_loss: 1.8972 - val_accuracy: 0.5768\n"
          ]
        },
        {
          "output_type": "execute_result",
          "data": {
            "text/plain": [
              "<keras.callbacks.History at 0x7fa306f92f10>"
            ]
          },
          "metadata": {},
          "execution_count": 29
        }
      ]
    },
    {
      "cell_type": "markdown",
      "source": [
        "## Save Model"
      ],
      "metadata": {
        "id": "9jYGht8KLM42"
      }
    },
    {
      "cell_type": "code",
      "source": [
        "model.save('model.h5')"
      ],
      "metadata": {
        "id": "fA8gBLap0faK"
      },
      "execution_count": null,
      "outputs": []
    },
    {
      "cell_type": "markdown",
      "source": [
        "## Plot graphs"
      ],
      "metadata": {
        "id": "xJYEZKAvLQQJ"
      }
    },
    {
      "cell_type": "code",
      "source": [
        "plt.figure(figsize=(20,10))\n",
        "plt.subplot(1, 2, 1)\n",
        "plt.suptitle('Optimizer : Adam', fontsize=10)\n",
        "plt.ylabel('Loss', fontsize=16)\n",
        "plt.plot(history.history['loss'], label='Training Loss')\n",
        "plt.plot(history.history['val_loss'], label='Validation Loss')\n",
        "plt.legend(loc='upper right')\n",
        "\n",
        "plt.subplot(1, 2, 2)\n",
        "plt.ylabel('Accuracy', fontsize=16)\n",
        "plt.plot(history.history['accuracy'], label='Training Accuracy')\n",
        "plt.plot(history.history['val_accuracy'], label='Validation Accuracy')\n",
        "plt.legend(loc='lower right')\n",
        "plt.show()"
      ],
      "metadata": {
        "colab": {
          "base_uri": "https://localhost:8080/",
          "height": 663
        },
        "id": "osfMOPxDKOI1",
        "outputId": "28386d83-f474-4343-ed76-9742213c776a"
      },
      "execution_count": null,
      "outputs": [
        {
          "output_type": "display_data",
          "data": {
            "text/plain": [
              "<Figure size 1440x720 with 2 Axes>"
            ],
            "image/png": "[encoded data removed]"
          },
          "metadata": {
            "needs_background": "light"
          }
        }
      ]
    },
    {
      "cell_type": "markdown",
      "source": [
        "## Conclusion"
      ],
      "metadata": {
        "id": "bJGU8qHfL4rw"
      }
    }
  ]
}