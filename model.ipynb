{
  "nbformat": 4,
  "nbformat_minor": 0,
  "metadata": {
    "colab": {
      "provenance": []
    },
    "kernelspec": {
      "name": "python3",
      "display_name": "Python 3"
    },
    "language_info": {
      "name": "python"
    }
  },
  "cells": [
    {
      "cell_type": "code",
      "execution_count": 1,
      "metadata": {
        "id": "B6Nt0sqsfriT"
      },
      "outputs": [],
      "source": [
        "import pandas as pd\n",
        "import numpy as np\n",
        "from keras.models import Sequential\n",
        "from keras.layers import Dense, Dropout, Flatten, Conv2D, MaxPooling2D, BatchNormalization, LSTM, Bidirectional\n",
        "from keras.utils import np_utils\n",
        "from keras.callbacks import ModelCheckpoint"
      ]
    },
    {
      "cell_type": "code",
      "source": [
        "data = pd.read_csv('/content/drive/MyDrive/fer2013/icml_face_data.csv')\n",
        "data.head()"
      ],
      "metadata": {
        "colab": {
          "base_uri": "https://localhost:8080/",
          "height": 206
        },
        "id": "FD1xN1ePg3GB",
        "outputId": "2bdf0773-1b1d-4c86-93f6-047fa979baec"
      },
      "execution_count": 3,
      "outputs": [
        {
          "output_type": "execute_result",
          "data": {
            "text/plain": [
              "   emotion     Usage                                             pixels\n",
              "0        0  Training  70 80 82 72 58 58 60 63 54 58 60 48 89 115 121...\n",
              "1        0  Training  151 150 147 155 148 133 111 140 170 174 182 15...\n",
              "2        2  Training  231 212 156 164 174 138 161 173 182 200 106 38...\n",
              "3        4  Training  24 32 36 30 32 23 19 20 30 41 21 22 32 34 21 1...\n",
              "4        6  Training  4 0 0 0 0 0 0 0 0 0 0 0 3 15 23 28 48 50 58 84..."
            ],
            "text/html": [
              "\n",
              "  <div id=\"df-6051afa2-f61f-48a4-b213-42e418650d3e\">\n",
              "    <div class=\"colab-df-container\">\n",
              "      <div>\n",
              "<style scoped>\n",
              "    .dataframe tbody tr th:only-of-type {\n",
              "        vertical-align: middle;\n",
              "    }\n",
              "\n",
              "    .dataframe tbody tr th {\n",
              "        vertical-align: top;\n",
              "    }\n",
              "\n",
              "    .dataframe thead th {\n",
              "        text-align: right;\n",
              "    }\n",
              "</style>\n",
              "<table border=\"1\" class=\"dataframe\">\n",
              "  <thead>\n",
              "    <tr style=\"text-align: right;\">\n",
              "      <th></th>\n",
              "      <th>emotion</th>\n",
              "      <th>Usage</th>\n",
              "      <th>pixels</th>\n",
              "    </tr>\n",
              "  </thead>\n",
              "  <tbody>\n",
              "    <tr>\n",
              "      <th>0</th>\n",
              "      <td>0</td>\n",
              "      <td>Training</td>\n",
              "      <td>70 80 82 72 58 58 60 63 54 58 60 48 89 115 121...</td>\n",
              "    </tr>\n",
              "    <tr>\n",
              "      <th>1</th>\n",
              "      <td>0</td>\n",
              "      <td>Training</td>\n",
              "      <td>151 150 147 155 148 133 111 140 170 174 182 15...</td>\n",
              "    </tr>\n",
              "    <tr>\n",
              "      <th>2</th>\n",
              "      <td>2</td>\n",
              "      <td>Training</td>\n",
              "      <td>231 212 156 164 174 138 161 173 182 200 106 38...</td>\n",
              "    </tr>\n",
              "    <tr>\n",
              "      <th>3</th>\n",
              "      <td>4</td>\n",
              "      <td>Training</td>\n",
              "      <td>24 32 36 30 32 23 19 20 30 41 21 22 32 34 21 1...</td>\n",
              "    </tr>\n",
              "    <tr>\n",
              "      <th>4</th>\n",
              "      <td>6</td>\n",
              "      <td>Training</td>\n",
              "      <td>4 0 0 0 0 0 0 0 0 0 0 0 3 15 23 28 48 50 58 84...</td>\n",
              "    </tr>\n",
              "  </tbody>\n",
              "</table>\n",
              "</div>\n",
              "      <button class=\"colab-df-convert\" onclick=\"convertToInteractive('df-6051afa2-f61f-48a4-b213-42e418650d3e')\"\n",
              "              title=\"Convert this dataframe to an interactive table.\"\n",
              "              style=\"display:none;\">\n",
              "        \n",
              "  <svg xmlns=\"http://www.w3.org/2000/svg\" height=\"24px\"viewBox=\"0 0 24 24\"\n",
              "       width=\"24px\">\n",
              "    <path d=\"M0 0h24v24H0V0z\" fill=\"none\"/>\n",
              "    <path d=\"M18.56 5.44l.94 2.06.94-2.06 2.06-.94-2.06-.94-.94-2.06-.94 2.06-2.06.94zm-11 1L8.5 8.5l.94-2.06 2.06-.94-2.06-.94L8.5 2.5l-.94 2.06-2.06.94zm10 10l.94 2.06.94-2.06 2.06-.94-2.06-.94-.94-2.06-.94 2.06-2.06.94z\"/><path d=\"M17.41 7.96l-1.37-1.37c-.4-.4-.92-.59-1.43-.59-.52 0-1.04.2-1.43.59L10.3 9.45l-7.72 7.72c-.78.78-.78 2.05 0 2.83L4 21.41c.39.39.9.59 1.41.59.51 0 1.02-.2 1.41-.59l7.78-7.78 2.81-2.81c.8-.78.8-2.07 0-2.86zM5.41 20L4 18.59l7.72-7.72 1.47 1.35L5.41 20z\"/>\n",
              "  </svg>\n",
              "      </button>\n",
              "      \n",
              "  <style>\n",
              "    .colab-df-container {\n",
              "      display:flex;\n",
              "      flex-wrap:wrap;\n",
              "      gap: 12px;\n",
              "    }\n",
              "\n",
              "    .colab-df-convert {\n",
              "      background-color: #E8F0FE;\n",
              "      border: none;\n",
              "      border-radius: 50%;\n",
              "      cursor: pointer;\n",
              "      display: none;\n",
              "      fill: #1967D2;\n",
              "      height: 32px;\n",
              "      padding: 0 0 0 0;\n",
              "      width: 32px;\n",
              "    }\n",
              "\n",
              "    .colab-df-convert:hover {\n",
              "      background-color: #E2EBFA;\n",
              "      box-shadow: 0px 1px 2px rgba(60, 64, 67, 0.3), 0px 1px 3px 1px rgba(60, 64, 67, 0.15);\n",
              "      fill: #174EA6;\n",
              "    }\n",
              "\n",
              "    [theme=dark] .colab-df-convert {\n",
              "      background-color: #3B4455;\n",
              "      fill: #D2E3FC;\n",
              "    }\n",
              "\n",
              "    [theme=dark] .colab-df-convert:hover {\n",
              "      background-color: #434B5C;\n",
              "      box-shadow: 0px 1px 3px 1px rgba(0, 0, 0, 0.15);\n",
              "      filter: drop-shadow(0px 1px 2px rgba(0, 0, 0, 0.3));\n",
              "      fill: #FFFFFF;\n",
              "    }\n",
              "  </style>\n",
              "\n",
              "      <script>\n",
              "        const buttonEl =\n",
              "          document.querySelector('#df-6051afa2-f61f-48a4-b213-42e418650d3e button.colab-df-convert');\n",
              "        buttonEl.style.display =\n",
              "          google.colab.kernel.accessAllowed ? 'block' : 'none';\n",
              "\n",
              "        async function convertToInteractive(key) {\n",
              "          const element = document.querySelector('#df-6051afa2-f61f-48a4-b213-42e418650d3e');\n",
              "          const dataTable =\n",
              "            await google.colab.kernel.invokeFunction('convertToInteractive',\n",
              "                                                     [key], {});\n",
              "          if (!dataTable) return;\n",
              "\n",
              "          const docLinkHtml = 'Like what you see? Visit the ' +\n",
              "            '<a target=\"_blank\" href=https://colab.research.google.com/notebooks/data_table.ipynb>data table notebook</a>'\n",
              "            + ' to learn more about interactive tables.';\n",
              "          element.innerHTML = '';\n",
              "          dataTable['output_type'] = 'display_data';\n",
              "          await google.colab.output.renderOutput(dataTable, element);\n",
              "          const docLink = document.createElement('div');\n",
              "          docLink.innerHTML = docLinkHtml;\n",
              "          element.appendChild(docLink);\n",
              "        }\n",
              "      </script>\n",
              "    </div>\n",
              "  </div>\n",
              "  "
            ]
          },
          "metadata": {},
          "execution_count": 3
        }
      ]
    },
    {
      "cell_type": "code",
      "source": [],
      "metadata": {
        "id": "huTpioIkxZdn"
      },
      "execution_count": null,
      "outputs": []
    },
    {
      "cell_type": "code",
      "source": [
        "# Split the data into training, validation, and testing sets\n",
        "train_data = data[data['Usage'] == 'Training']\n",
        "val_data = data[data['Usage'] == 'PublicTest']\n",
        "test_data = data[data['Usage'] == 'PrivateTest']"
      ],
      "metadata": {
        "id": "_poJKbg0idQK"
      },
      "execution_count": 4,
      "outputs": []
    },
    {
      "cell_type": "code",
      "source": [
        "# Convert the pixels from strings to arrays of integers\n",
        "X_train = np.array([np.fromstring(x, dtype=int, sep=' ') for x in train_data['pixels']])\n",
        "X_val = np.array([np.fromstring(x, dtype=int, sep=' ') for x in val_data['pixels']])\n",
        "X_test = np.array([np.fromstring(x, dtype=int, sep=' ') for x in test_data['pixels']])"
      ],
      "metadata": {
        "id": "2hWrnJgLin3h"
      },
      "execution_count": 5,
      "outputs": []
    },
    {
      "cell_type": "code",
      "source": [
        "# Reshape the data to be 48x48 grayscale images\n",
        "X_train = X_train.reshape(-1, 48, 48, 1)\n",
        "X_val = X_val.reshape(-1, 48, 48, 1)\n",
        "X_test = X_test.reshape(-1, 48, 48, 1)"
      ],
      "metadata": {
        "id": "KOktEgXuirNz"
      },
      "execution_count": 6,
      "outputs": []
    },
    {
      "cell_type": "code",
      "source": [
        "# Convert the labels to one-hot encoding\n",
        "y_train = np_utils.to_categorical(train_data['emotion'], 7)\n",
        "y_val = np_utils.to_categorical(val_data['emotion'], 7)\n",
        "y_test = np_utils.to_categorical(test_data['emotion'], 7)"
      ],
      "metadata": {
        "id": "VYLkKJmoiuhU"
      },
      "execution_count": 7,
      "outputs": []
    },
    {
      "cell_type": "code",
      "source": [
        "model = Sequential()\n",
        "\n",
        "# First LSTM layer\n",
        "model.add(Bidirectional(LSTM(128, return_sequences=True), input_shape=(48, 48)))\n",
        "model.add(Dropout(0.5))\n",
        "model.add(BatchNormalization())\n",
        "\n",
        "# Second LSTM layer\n",
        "model.add(Bidirectional(LSTM(64)))\n",
        "model.add(Dropout(0.5))\n",
        "model.add(BatchNormalization())\n",
        "\n",
        "# Output layer\n",
        "model.add(Dense(7, activation='softmax'))\n",
        "\n",
        "model.summary()"
      ],
      "metadata": {
        "colab": {
          "base_uri": "https://localhost:8080/"
        },
        "id": "b6vq3QQWixpI",
        "outputId": "aea47285-65c6-4bac-80b9-6b85000df699"
      },
      "execution_count": 8,
      "outputs": [
        {
          "output_type": "stream",
          "name": "stdout",
          "text": [
            "Model: \"sequential\"\n",
            "_________________________________________________________________\n",
            " Layer (type)                Output Shape              Param #   \n",
            "=================================================================\n",
            " bidirectional (Bidirectiona  (None, 48, 256)          181248    \n",
            " l)                                                              \n",
            "                                                                 \n",
            " dropout (Dropout)           (None, 48, 256)           0         \n",
            "                                                                 \n",
            " batch_normalization (BatchN  (None, 48, 256)          1024      \n",
            " ormalization)                                                   \n",
            "                                                                 \n",
            " bidirectional_1 (Bidirectio  (None, 128)              164352    \n",
            " nal)                                                            \n",
            "                                                                 \n",
            " dropout_1 (Dropout)         (None, 128)               0         \n",
            "                                                                 \n",
            " batch_normalization_1 (Batc  (None, 128)              512       \n",
            " hNormalization)                                                 \n",
            "                                                                 \n",
            " dense (Dense)               (None, 7)                 903       \n",
            "                                                                 \n",
            "=================================================================\n",
            "Total params: 348,039\n",
            "Trainable params: 347,271\n",
            "Non-trainable params: 768\n",
            "_________________________________________________________________\n"
          ]
        }
      ]
    },
    {
      "cell_type": "code",
      "source": [
        "model.compile(loss='categorical_crossentropy', optimizer='adam', metrics=['accuracy'])\n",
        "\n",
        "checkpoint = ModelCheckpoint('model.h5', monitor='val_accuracy', verbose=1, save_best_only=True, mode='max')\n",
        "callbacks_list = [checkpoint]"
      ],
      "metadata": {
        "id": "ST54qABci2Z9"
      },
      "execution_count": 9,
      "outputs": []
    },
    {
      "cell_type": "code",
      "source": [
        "history = model.fit(X_train, y_train, batch_size=64, epochs=50, verbose=1, validation_data=(X_val, y_val), callbacks=callbacks_list)"
      ],
      "metadata": {
        "colab": {
          "base_uri": "https://localhost:8080/"
        },
        "id": "3uLHrFsTi7k_",
        "outputId": "b77a7a5e-162b-4bfe-b5c8-1ece5a85e77f"
      },
      "execution_count": null,
      "outputs": [
        {
          "output_type": "stream",
          "name": "stdout",
          "text": [
            "Epoch 1/50\n",
            "449/449 [==============================] - ETA: 0s - loss: 2.0518 - accuracy: 0.2107\n",
            "Epoch 1: val_accuracy improved from -inf to 0.28392, saving model to model.h5\n",
            "449/449 [==============================] - 193s 406ms/step - loss: 2.0518 - accuracy: 0.2107 - val_loss: 1.7621 - val_accuracy: 0.2839\n",
            "Epoch 2/50\n",
            "449/449 [==============================] - ETA: 0s - loss: 1.7970 - accuracy: 0.2600\n",
            "Epoch 2: val_accuracy did not improve from 0.28392\n",
            "449/449 [==============================] - 180s 402ms/step - loss: 1.7970 - accuracy: 0.2600 - val_loss: 2.0706 - val_accuracy: 0.2065\n",
            "Epoch 3/50\n",
            "449/449 [==============================] - ETA: 0s - loss: 1.7654 - accuracy: 0.2780\n",
            "Epoch 3: val_accuracy improved from 0.28392 to 0.29423, saving model to model.h5\n",
            "449/449 [==============================] - 183s 407ms/step - loss: 1.7654 - accuracy: 0.2780 - val_loss: 1.7379 - val_accuracy: 0.2942\n",
            "Epoch 4/50\n",
            "449/449 [==============================] - ETA: 0s - loss: 1.7483 - accuracy: 0.2876\n",
            "Epoch 4: val_accuracy improved from 0.29423 to 0.30287, saving model to model.h5\n",
            "449/449 [==============================] - 182s 406ms/step - loss: 1.7483 - accuracy: 0.2876 - val_loss: 1.7248 - val_accuracy: 0.3029\n",
            "Epoch 5/50\n",
            "449/449 [==============================] - ETA: 0s - loss: 1.7395 - accuracy: 0.2921\n",
            "Epoch 5: val_accuracy improved from 0.30287 to 0.31151, saving model to model.h5\n",
            "449/449 [==============================] - 181s 403ms/step - loss: 1.7395 - accuracy: 0.2921 - val_loss: 1.7223 - val_accuracy: 0.3115\n",
            "Epoch 6/50\n",
            "449/449 [==============================] - ETA: 0s - loss: 1.7344 - accuracy: 0.2954\n",
            "Epoch 6: val_accuracy did not improve from 0.31151\n",
            "449/449 [==============================] - 179s 400ms/step - loss: 1.7344 - accuracy: 0.2954 - val_loss: 1.7328 - val_accuracy: 0.2981\n",
            "Epoch 7/50\n",
            "449/449 [==============================] - ETA: 0s - loss: 1.7296 - accuracy: 0.2996\n",
            "Epoch 7: val_accuracy did not improve from 0.31151\n",
            "449/449 [==============================] - 178s 396ms/step - loss: 1.7296 - accuracy: 0.2996 - val_loss: 1.7514 - val_accuracy: 0.2781\n",
            "Epoch 8/50\n",
            "449/449 [==============================] - ETA: 0s - loss: 1.7301 - accuracy: 0.3007\n",
            "Epoch 8: val_accuracy did not improve from 0.31151\n",
            "449/449 [==============================] - 181s 403ms/step - loss: 1.7301 - accuracy: 0.3007 - val_loss: 1.7322 - val_accuracy: 0.2990\n",
            "Epoch 9/50\n",
            "449/449 [==============================] - ETA: 0s - loss: 1.7255 - accuracy: 0.3041\n",
            "Epoch 9: val_accuracy did not improve from 0.31151\n",
            "449/449 [==============================] - 185s 413ms/step - loss: 1.7255 - accuracy: 0.3041 - val_loss: 1.7206 - val_accuracy: 0.3059\n",
            "Epoch 10/50\n",
            "449/449 [==============================] - ETA: 0s - loss: 1.7217 - accuracy: 0.3048\n",
            "Epoch 10: val_accuracy did not improve from 0.31151\n",
            "449/449 [==============================] - 187s 415ms/step - loss: 1.7217 - accuracy: 0.3048 - val_loss: 1.7405 - val_accuracy: 0.3107\n",
            "Epoch 11/50\n",
            "449/449 [==============================] - ETA: 0s - loss: 1.7223 - accuracy: 0.3035\n",
            "Epoch 11: val_accuracy did not improve from 0.31151\n",
            "449/449 [==============================] - 189s 422ms/step - loss: 1.7223 - accuracy: 0.3035 - val_loss: 1.7447 - val_accuracy: 0.2834\n",
            "Epoch 12/50\n",
            "449/449 [==============================] - ETA: 0s - loss: 1.7138 - accuracy: 0.3088"
          ]
        }
      ]
    },
    {
      "cell_type": "code",
      "source": [
        "from keras.models import load_model\n",
        "\n",
        "model = load_model('model.h5')"
      ],
      "metadata": {
        "id": "TKueOKZJi-Yg"
      },
      "execution_count": null,
      "outputs": []
    },
    {
      "cell_type": "code",
      "source": [
        "new_data = np.array([np.fromstring(x, dtype=int, sep=' ') for x in new_data_pixels])\n",
        "new_data = new_data.reshape(-1, 48, 48, 1)\n",
        "predictions = model.predict(new_data)"
      ],
      "metadata": {
        "id": "-tl6T_DBj5XQ"
      },
      "execution_count": null,
      "outputs": []
    }
  ]
}